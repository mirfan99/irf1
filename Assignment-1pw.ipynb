{
 "cells": [
  {
   "cell_type": "markdown",
   "id": "a23aa7fb-4cab-43e2-82bf-91aa290f1f39",
   "metadata": {},
   "source": [
    "### Q1. Create one variable containing following type of data:\n",
    "    (i) string\n",
    "    (ii) list\n",
    "    (iii) float\n",
    "    (iv) tuple"
   ]
  },
  {
   "cell_type": "code",
   "execution_count": 1,
   "id": "7aee02ba-cb64-4ed3-83cd-3387445bec10",
   "metadata": {},
   "outputs": [],
   "source": [
    "IR = [\"Irfan\",[5,10,15],245.54,(4,3,9)]"
   ]
  },
  {
   "cell_type": "code",
   "execution_count": 2,
   "id": "b6c11946-ef0b-4177-a2f7-90d7134d7485",
   "metadata": {},
   "outputs": [
    {
     "data": {
      "text/plain": [
       "['Irfan', [5, 10, 15], 245.54, (4, 3, 9)]"
      ]
     },
     "execution_count": 2,
     "metadata": {},
     "output_type": "execute_result"
    }
   ],
   "source": [
    "IR"
   ]
  },
  {
   "cell_type": "code",
   "execution_count": 3,
   "id": "5d9f5a50-2ebd-48e6-853a-cbb9e0c4872b",
   "metadata": {},
   "outputs": [
    {
     "data": {
      "text/plain": [
       "list"
      ]
     },
     "execution_count": 3,
     "metadata": {},
     "output_type": "execute_result"
    }
   ],
   "source": [
    "type(IR)"
   ]
  },
  {
   "cell_type": "markdown",
   "id": "97e2c328-560b-4812-ad84-89658c782a74",
   "metadata": {},
   "source": [
    "### Q2. Given are some following variables containing data:\n",
    "    (i) var1 = ‘ ‘\n",
    "    (ii) var2 = ‘[ DS , ML , Python]’\n",
    "    (iii) var3 = [ ‘DS’ , ’ML’ , ‘Python’ ]\n",
    "    (iv) var4 = 1.\n",
    "What will be the data type of the above given variable."
   ]
  },
  {
   "cell_type": "code",
   "execution_count": 4,
   "id": "94fae9c7-3168-48f8-8314-5ddfef6950df",
   "metadata": {},
   "outputs": [
    {
     "name": "stdout",
     "output_type": "stream",
     "text": [
      "<class 'str'> <class 'str'> <class 'list'> <class 'float'>\n"
     ]
    }
   ],
   "source": [
    "var1 = 'Irfan'\n",
    "var2 = '[DS,ML,Python]'\n",
    "var3 = ['DS','ML','Python']\n",
    "var4 = 1.\n",
    "print(type(var1),type(var2),type(var3),type(var4))"
   ]
  },
  {
   "cell_type": "markdown",
   "id": "ffd35e51-5373-4030-b79f-cf8846ded79a",
   "metadata": {},
   "source": [
    "### Q3. Explain the use of the following operators using an example:\n",
    "    (i) /\n",
    "    (ii) %\n",
    "    (iii) //\n",
    "    (iv) **"
   ]
  },
  {
   "cell_type": "code",
   "execution_count": 5,
   "id": "b538f581-6e44-4bf4-8680-4dda2ec57ad3",
   "metadata": {},
   "outputs": [
    {
     "name": "stdout",
     "output_type": "stream",
     "text": [
      "2.0\n"
     ]
    }
   ],
   "source": [
    "# Division operator(/)->This operator is used to obtain float data value\n",
    "a=10\n",
    "b=5\n",
    "print(a/b)"
   ]
  },
  {
   "cell_type": "code",
   "execution_count": 6,
   "id": "9b23e28b-6c0a-4b65-994d-a36ed32190a9",
   "metadata": {},
   "outputs": [
    {
     "name": "stdout",
     "output_type": "stream",
     "text": [
      "2\n"
     ]
    }
   ],
   "source": [
    "# Modulus operator(%)->This operator is used to find remainder\n",
    "z = 20\n",
    "x = 6\n",
    "print(z%x)"
   ]
  },
  {
   "cell_type": "code",
   "execution_count": 7,
   "id": "dd30d631-ca35-4107-b95b-b4731f711df3",
   "metadata": {},
   "outputs": [
    {
     "name": "stdout",
     "output_type": "stream",
     "text": [
      "5\n"
     ]
    }
   ],
   "source": [
    "# Floar Division(//)->This operator help us to find how many time the operation completed\n",
    "p = 50\n",
    "q = 10\n",
    "print(p//q)"
   ]
  },
  {
   "cell_type": "code",
   "execution_count": 8,
   "id": "c6de7b2b-4703-46cd-bfcb-997f3319f596",
   "metadata": {
    "collapsed": true,
    "jupyter": {
     "outputs_hidden": true
    },
    "tags": []
   },
   "outputs": [
    {
     "data": {
      "text/plain": [
       "25"
      ]
     },
     "execution_count": 8,
     "metadata": {},
     "output_type": "execute_result"
    }
   ],
   "source": [
    "# Exponent Operator(**)->This operator is used to find how many times same values are multipied\n",
    "s = 5**2\n",
    "s"
   ]
  },
  {
   "cell_type": "markdown",
   "id": "ad0dadbb-f141-49c1-be18-0b1aaae0ebaa",
   "metadata": {},
   "source": [
    "#### Q4. Create a list of length 10 of your choice containing multiple types of data. Using for loop print the element and its data type."
   ]
  },
  {
   "cell_type": "code",
   "execution_count": 9,
   "id": "62b4fd3c-c74f-463c-b447-a1dfb12725b9",
   "metadata": {},
   "outputs": [
    {
     "data": {
      "text/plain": [
       "[10,\n",
       " 25,\n",
       " 15.5,\n",
       " True,\n",
       " False,\n",
       " 'Irfan',\n",
       " (4, 5, 6),\n",
       " [6, 7, 8],\n",
       " {14, 45.5, 'irfi'},\n",
       " 5457]"
      ]
     },
     "execution_count": 9,
     "metadata": {},
     "output_type": "execute_result"
    }
   ],
   "source": [
    "list = [10,25,15.5,True,False,'Irfan',(4,5,6),[6,7,8],{14,'irfi',45.5},5457]\n",
    "list"
   ]
  },
  {
   "cell_type": "code",
   "execution_count": 10,
   "id": "b62b30f3-2076-47da-aaa3-8f1eb9dad4f5",
   "metadata": {},
   "outputs": [
    {
     "name": "stdout",
     "output_type": "stream",
     "text": [
      "<class 'int'>\n",
      "<class 'int'>\n",
      "<class 'float'>\n",
      "<class 'bool'>\n",
      "<class 'bool'>\n",
      "<class 'str'>\n",
      "<class 'tuple'>\n",
      "<class 'list'>\n",
      "<class 'set'>\n",
      "<class 'int'>\n"
     ]
    }
   ],
   "source": [
    "for i in list:\n",
    "    print(type(i))"
   ]
  },
  {
   "cell_type": "code",
   "execution_count": 11,
   "id": "30c40129-2d81-432f-82a2-504fb4f9827e",
   "metadata": {},
   "outputs": [
    {
     "data": {
      "text/plain": [
       "10"
      ]
     },
     "execution_count": 11,
     "metadata": {},
     "output_type": "execute_result"
    }
   ],
   "source": [
    "len(list)"
   ]
  },
  {
   "cell_type": "markdown",
   "id": "1cb33feb-f6a0-4f0f-9bbc-7c7071e7afdd",
   "metadata": {},
   "source": [
    "### Q5. Using a while loop, verify if the number A is purely divisible by number B and if so then how many times it can be divisible."
   ]
  },
  {
   "cell_type": "code",
   "execution_count": null,
   "id": "a80068bf-7bb1-4f96-a501-155b6701c75d",
   "metadata": {},
   "outputs": [],
   "source": [
    "A = int(input())\n",
    "B = int(input())\n",
    "while A%B==0:\n",
    "    print('A is divisible by B', 'and A is divisible by B for', A/B, 'times')\n",
    "    break\n",
    "else:\n",
    "    print('A is not divisible by B')"
   ]
  },
  {
   "cell_type": "markdown",
   "id": "4d555e63-a710-421c-b2b2-027eeed9b166",
   "metadata": {},
   "source": [
    "## Q6. Create a list containing 25 int type data. Using for loop and if-else condition print if the element is divisible by 3 or not."
   ]
  },
  {
   "cell_type": "code",
   "execution_count": null,
   "id": "9d261853-a453-494d-b718-b12fc42d5422",
   "metadata": {},
   "outputs": [],
   "source": [
    "list1 = [1,2,3,4,5,6,7,8,9,10,11,12,13,14,15,16,17,18,19,20,21,22,23,24,25]\n",
    "print(list1)\n",
    "\n",
    "for i in list1:\n",
    "    if i%3==0:\n",
    "        print(i, 'is divisible by 3')\n",
    "    else:\n",
    "        print(i, 'is not divisible by 3')"
   ]
  },
  {
   "cell_type": "markdown",
   "id": "0b219a36-758b-41d5-ab38-f0517299c3df",
   "metadata": {},
   "source": [
    "## Q7. What do you understand about mutable and immutable data types? Give examples for both showing this property."
   ]
  },
  {
   "cell_type": "code",
   "execution_count": null,
   "id": "0ffe6217-c431-4f8e-8ffc-e3fc1056e33d",
   "metadata": {},
   "outputs": [],
   "source": [
    "#Mutable data type:-> A data type which can be edited/do any changes such as, replacing,removing..etc called Mutable datatype.\n",
    "IR = [10,25.5,'Irfan',True]\n",
    "print(IR)\n",
    "print(type(IR))\n",
    "print(IR[0])\n",
    "print(IR.pop())\n",
    "print(IR)\n",
    "\n",
    "#Immutable data type:-> A data type which cannot be edited or do not make any changes such as(tuple,string,number)-replacing\n"
   ]
  },
  {
   "cell_type": "code",
   "execution_count": null,
   "id": "1be6240b-941a-4d21-8dc7-b05d743ec8bc",
   "metadata": {},
   "outputs": [],
   "source": [
    "t = ('Irfan',5,25.5,False)\n",
    "print(t)\n",
    "print(type(t))\n",
    "print(t[0])\n",
    "print(t[1]=45) #due to replacing by indexing"
   ]
  },
  {
   "cell_type": "code",
   "execution_count": null,
   "id": "f20e220f-8ff3-46eb-b64b-e141ff5a162b",
   "metadata": {},
   "outputs": [],
   "source": []
  }
 ],
 "metadata": {
  "kernelspec": {
   "display_name": "Python 3 (ipykernel)",
   "language": "python",
   "name": "python3"
  },
  "language_info": {
   "codemirror_mode": {
    "name": "ipython",
    "version": 3
   },
   "file_extension": ".py",
   "mimetype": "text/x-python",
   "name": "python",
   "nbconvert_exporter": "python",
   "pygments_lexer": "ipython3",
   "version": "3.10.8"
  }
 },
 "nbformat": 4,
 "nbformat_minor": 5
}
